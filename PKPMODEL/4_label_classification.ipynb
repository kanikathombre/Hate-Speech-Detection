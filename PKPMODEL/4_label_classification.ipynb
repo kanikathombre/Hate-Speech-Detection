{
  "nbformat": 4,
  "nbformat_minor": 0,
  "metadata": {
    "colab": {
      "provenance": []
    },
    "kernelspec": {
      "name": "python3",
      "display_name": "Python 3"
    },
    "language_info": {
      "name": "python"
    }
  },
  "cells": [
    {
      "cell_type": "markdown",
      "source": [
        "#SVM W2V"
      ],
      "metadata": {
        "id": "uUC4Fypx26m_"
      }
    },
    {
      "cell_type": "code",
      "source": [
        "import pandas as pd\n",
        "from sklearn.model_selection import train_test_split\n",
        "from sklearn.svm import SVC\n",
        "from sklearn.preprocessing import StandardScaler\n",
        "from sklearn.pipeline import make_pipeline\n",
        "from gensim.models import Word2Vec\n",
        "import numpy as np\n",
        "from sklearn.metrics import accuracy_score, classification_report\n",
        "\n",
        "# Load your training data\n",
        "# Assuming the file is CSV and the relevant columns are 'comments' and 'labels'\n",
        "data = pd.read_csv('/content/modified_hatespeech.csv')\n",
        "comments = data['Comment']\n",
        "labels = data['Label']\n",
        "\n",
        "# Preprocess the data: simple tokenization\n",
        "# In practice, you might need more complex preprocessing (e.g., lowercasing, removing stop words)\n",
        "tokenized_comments = [comment.lower().split() for comment in comments]\n",
        "\n",
        "# Train a Word2Vec model or load a pre-trained one\n",
        "# This example trains a new model from the input comments\n",
        "word2vec_model = Word2Vec(sentences=tokenized_comments, vector_size=100, window=5, min_count=1, workers=4)\n",
        "\n",
        "# Function to transform a sentence into a mean vector\n",
        "def comment_to_mean_vector(comment):\n",
        "    words = comment.lower().split()\n",
        "    word_vectors = [word2vec_model.wv[word] for word in words if word in word2vec_model.wv]\n",
        "    if len(word_vectors) == 0:\n",
        "        return np.zeros(word2vec_model.vector_size)\n",
        "    return np.mean(word_vectors, axis=0)\n",
        "\n",
        "# Transform each comment into a vector\n",
        "X = np.array([comment_to_mean_vector(comment) for comment in comments])\n",
        "\n",
        "# Train/test split\n",
        "X_train, X_test, y_train, y_test = train_test_split(X, labels, test_size=0.25, random_state=42)\n",
        "\n",
        "# Train an SVM classifier\n",
        "svm_classifier = make_pipeline(StandardScaler(), SVC(kernel='linear'))\n",
        "svm_classifier.fit(X_train, y_train)\n",
        "\n",
        "# If you have test labels, you can evaluate the classifier here\n",
        "# predictions = svm_classifier.predict(X_test)\n",
        "# Evaluate your classifier (e.g., accuracy_score(y_test, predictions))\n",
        "accuracy = accuracy_score(y_test, predictions)\n",
        "print(\"Accuracy Score:\", accuracy)\n",
        "\n",
        "# Generate a classification report\n",
        "report = classification_report(y_test, predictions)\n",
        "print(\"\\nClassification Report:\\n\", report)\n",
        "print(\"Model trained successfully!\")\n"
      ],
      "metadata": {
        "colab": {
          "base_uri": "https://localhost:8080/"
        },
        "id": "AmN9RJU4z00T",
        "outputId": "6c14e7b2-4009-443f-8830-a6fef77673a1"
      },
      "execution_count": null,
      "outputs": [
        {
          "output_type": "stream",
          "name": "stdout",
          "text": [
            "Accuracy Score: 0.2830188679245283\n",
            "\n",
            "Classification Report:\n",
            "               precision    recall  f1-score   support\n",
            "\n",
            " BodyShaming       0.00      0.00      0.00         5\n",
            "    Misogyny       0.37      0.37      0.37        19\n",
            "  RapeThreat       0.32      0.35      0.33        17\n",
            "      Sexism       0.15      0.17      0.16        12\n",
            "\n",
            "    accuracy                           0.28        53\n",
            "   macro avg       0.21      0.22      0.22        53\n",
            "weighted avg       0.27      0.28      0.28        53\n",
            "\n",
            "Model trained successfully!\n"
          ]
        }
      ]
    },
    {
      "cell_type": "code",
      "source": [
        "import pickle\n",
        "\n",
        "# Save the Word2Vec model and the SVM classifier using pickle\n",
        "with open('word2vec_model.pkl', 'wb') as file:\n",
        "    pickle.dump(word2vec_model, file)\n",
        "\n",
        "with open('svm_classifier.pkl', 'wb') as file:\n",
        "    pickle.dump(svm_classifier, file)\n",
        "\n",
        "print(\"Models saved successfully using pickle!\")\n"
      ],
      "metadata": {
        "colab": {
          "base_uri": "https://localhost:8080/"
        },
        "id": "VEnPq0132Xpa",
        "outputId": "e3369d5a-e109-47df-c15f-ba58736213e1"
      },
      "execution_count": null,
      "outputs": [
        {
          "output_type": "stream",
          "name": "stdout",
          "text": [
            "Models saved successfully using pickle!\n"
          ]
        }
      ]
    },
    {
      "cell_type": "code",
      "source": [
        "import pandas as pd\n",
        "import numpy as np\n",
        "from joblib import load\n",
        "from gensim.models import Word2Vec\n",
        "\n",
        "# Load the models\n",
        "word2vec_model = load('/content/word2vec_model.pkl')\n",
        "svm_classifier = load('/content/svm_classifier.pkl')\n",
        "\n",
        "# Load your test data\n",
        "test_data = pd.read_csv('/content/df.csv')\n",
        "test_comments = test_data['Comment']\n",
        "\n",
        "# Function to transform comments into mean vectors\n",
        "def comment_to_mean_vector(comment, word2vec_model):\n",
        "    words = comment.lower().split()\n",
        "    word_vectors = [word2vec_model.wv[word] for word in words if word in word2vec_model.wv]\n",
        "    if len(word_vectors) == 0:\n",
        "        return np.zeros(word2vec_model.vector_size)\n",
        "    return np.mean(word_vectors, axis=0)\n",
        "\n",
        "# Transform test comments into vectors\n",
        "X_test = np.array([comment_to_mean_vector(comment, word2vec_model) for comment in test_comments])\n",
        "\n",
        "# Make predictions\n",
        "predictions = svm_classifier.predict(X_test)\n",
        "\n",
        "# Optionally, you can now review or use the predictions\n",
        "print(\"Predictions for the test data:\", predictions)\n"
      ],
      "metadata": {
        "colab": {
          "base_uri": "https://localhost:8080/"
        },
        "id": "1Tya4Sqq3L1H",
        "outputId": "0c48f918-2127-44a6-8c8a-d0776b906b6e"
      },
      "execution_count": null,
      "outputs": [
        {
          "output_type": "stream",
          "name": "stdout",
          "text": [
            "Predictions for the test data: ['Misogyny' 'Sexism' 'Sexism' 'Misogyny' 'Sexism' 'Sexism' 'Sexism'\n",
            " 'Misogyny' 'Misogyny' 'Misogyny' 'Sexism' 'Misogyny' 'Misogyny'\n",
            " 'Misogyny' 'Sexism' 'Sexism' 'BodyShaming' 'Sexism' 'Sexism' 'Misogyny'\n",
            " 'RapeThreat' 'Sexism' 'Misogyny' 'Misogyny' 'Sexism' 'Misogyny' 'Sexism'\n",
            " 'Misogyny' 'Sexism' 'Misogyny' 'Sexism' 'Misogyny' 'Misogyny' 'Sexism'\n",
            " 'Misogyny' 'Sexism' 'Misogyny' 'RapeThreat' 'Misogyny' 'Misogyny'\n",
            " 'BodyShaming' 'RapeThreat' 'BodyShaming' 'Misogyny' 'Misogyny' 'Misogyny'\n",
            " 'Misogyny' 'BodyShaming' 'Misogyny' 'Misogyny' 'Misogyny' 'Misogyny'\n",
            " 'Misogyny' 'Misogyny' 'Misogyny' 'Misogyny' 'Misogyny' 'Misogyny'\n",
            " 'Misogyny' 'Misogyny' 'RapeThreat' 'Misogyny' 'Misogyny' 'RapeThreat'\n",
            " 'Misogyny' 'Sexism' 'Misogyny' 'BodyShaming' 'Misogyny' 'RapeThreat'\n",
            " 'Misogyny' 'Misogyny' 'RapeThreat' 'BodyShaming' 'Misogyny' 'Misogyny'\n",
            " 'Misogyny' 'Sexism' 'Misogyny' 'Misogyny' 'BodyShaming' 'Misogyny'\n",
            " 'Misogyny' 'Misogyny' 'RapeThreat' 'Misogyny' 'Misogyny' 'Misogyny'\n",
            " 'Misogyny' 'Misogyny' 'Misogyny' 'BodyShaming' 'Misogyny' 'BodyShaming'\n",
            " 'Misogyny' 'Misogyny' 'Misogyny' 'Misogyny' 'Misogyny' 'Misogyny'\n",
            " 'Misogyny' 'RapeThreat' 'RapeThreat' 'Misogyny' 'Misogyny' 'Misogyny'\n",
            " 'Misogyny' 'Sexism' 'RapeThreat' 'Misogyny' 'Misogyny' 'Misogyny'\n",
            " 'Misogyny' 'Sexism' 'Misogyny' 'Misogyny' 'Misogyny' 'Sexism' 'Misogyny'\n",
            " 'Misogyny' 'Misogyny' 'Misogyny' 'Misogyny' 'BodyShaming' 'Misogyny'\n",
            " 'Misogyny' 'Misogyny' 'RapeThreat' 'Misogyny' 'Misogyny' 'Misogyny'\n",
            " 'BodyShaming' 'Misogyny' 'Misogyny' 'Misogyny' 'Misogyny' 'Misogyny'\n",
            " 'Misogyny' 'Misogyny' 'BodyShaming' 'Misogyny' 'Misogyny' 'Misogyny'\n",
            " 'Misogyny' 'Misogyny' 'Misogyny' 'Misogyny' 'Misogyny' 'Misogyny'\n",
            " 'Misogyny' 'Misogyny' 'Misogyny' 'Misogyny' 'BodyShaming' 'RapeThreat'\n",
            " 'Misogyny' 'Misogyny' 'Misogyny' 'Misogyny' 'Misogyny' 'Misogyny'\n",
            " 'Misogyny' 'Misogyny' 'RapeThreat' 'Misogyny' 'Misogyny' 'Misogyny'\n",
            " 'RapeThreat' 'Sexism' 'Misogyny' 'Misogyny' 'Sexism' 'Sexism' 'Misogyny'\n",
            " 'Misogyny' 'Misogyny' 'Misogyny' 'Misogyny' 'Misogyny' 'Misogyny'\n",
            " 'Misogyny' 'Sexism' 'Misogyny' 'Misogyny' 'RapeThreat' 'BodyShaming'\n",
            " 'Sexism' 'Misogyny' 'Misogyny' 'RapeThreat' 'Sexism' 'RapeThreat'\n",
            " 'BodyShaming' 'Sexism' 'Misogyny' 'Misogyny' 'Misogyny' 'Misogyny'\n",
            " 'Misogyny' 'Misogyny' 'Sexism' 'Misogyny' 'Misogyny' 'Misogyny'\n",
            " 'Misogyny' 'Misogyny' 'Misogyny' 'Sexism' 'Misogyny' 'Misogyny'\n",
            " 'Misogyny' 'Sexism' 'BodyShaming' 'Misogyny' 'Sexism' 'Misogyny'\n",
            " 'Misogyny' 'Misogyny' 'Misogyny' 'RapeThreat' 'Misogyny' 'Misogyny'\n",
            " 'Sexism' 'Misogyny' 'Misogyny' 'Misogyny' 'Misogyny' 'Misogyny'\n",
            " 'RapeThreat' 'Misogyny' 'Misogyny' 'Misogyny' 'Misogyny' 'RapeThreat'\n",
            " 'Misogyny' 'Misogyny' 'Misogyny' 'Misogyny' 'Misogyny' 'Misogyny'\n",
            " 'RapeThreat']\n"
          ]
        }
      ]
    },
    {
      "cell_type": "code",
      "source": [
        "import pandas as pd\n",
        "\n",
        "# Assuming 'test_comments' is your list of comments and 'predictions' are the predicted labels from the model\n",
        "test_data['Predicted_Labels'] = predictions  # Add the predictions as a new column\n",
        "\n",
        "# Save the DataFrame to a new CSV file\n",
        "test_data.to_csv('labeled_test_data.csv', index=False)\n",
        "\n",
        "print(\"The test data with predicted labels has been saved to 'labeled_test_data.csv'.\")\n"
      ],
      "metadata": {
        "colab": {
          "base_uri": "https://localhost:8080/"
        },
        "id": "8dhty9Dj38Q_",
        "outputId": "f9105314-d7d6-4c4d-ab8e-83f90f72a4fd"
      },
      "execution_count": null,
      "outputs": [
        {
          "output_type": "stream",
          "name": "stdout",
          "text": [
            "The test data with predicted labels has been saved to 'labeled_test_data.csv'.\n"
          ]
        }
      ]
    },
    {
      "cell_type": "markdown",
      "source": [
        "#W2V RF"
      ],
      "metadata": {
        "id": "zVRbhsWP7ruL"
      }
    },
    {
      "cell_type": "code",
      "source": [
        "import pandas as pd\n",
        "from gensim.models import Word2Vec\n",
        "from sklearn.ensemble import RandomForestClassifier\n",
        "from sklearn.model_selection import train_test_split\n",
        "from sklearn.metrics import classification_report\n",
        "import numpy as np\n",
        "\n",
        "# Load your data\n",
        "train_data = pd.read_csv('/content/modified_hatespeech.csv')\n",
        "\n",
        "# Ensure text data is tokenized properly\n",
        "train_data['processed_comments'] = train_data['Comment'].apply(lambda x: x.lower().split())\n",
        "\n",
        "# Train Word2Vec model\n",
        "w2v_model = Word2Vec(sentences=train_data['processed_comments'], vector_size=100, window=5, min_count=1, workers=4)\n",
        "\n",
        "# Function to transform each comment into a vector by averaging its word vectors\n",
        "def document_vector(doc):\n",
        "    # Removing out-of-vocabulary words and retrieving vectors with the `wv` attribute\n",
        "    vectors = [w2v_model.wv[word] for word in doc if word in w2v_model.wv.key_to_index]\n",
        "    if vectors:\n",
        "        return np.mean(vectors, axis=0)\n",
        "    else:\n",
        "        return np.zeros(w2v_model.vector_size)\n",
        "\n",
        "# Apply the function to each row to create document vectors\n",
        "train_data['doc_vector'] = train_data['processed_comments'].apply(document_vector)\n",
        "\n",
        "# Prepare data for Random Forest\n",
        "X = list(train_data['doc_vector'])\n",
        "y = train_data['Label']\n",
        "\n",
        "# Split data for training and validation\n",
        "X_train, X_test, y_train, y_test = train_test_split(X, y, test_size=0.25, random_state=42)\n",
        "\n",
        "# Train Random Forest Classifier\n",
        "clf = RandomForestClassifier(n_estimators=100, random_state=42)\n",
        "clf.fit(X_train, y_train)\n",
        "\n",
        "# Optional: Evaluate the classifier if you have labeled test data\n",
        "predictions = clf.predict(X_test)\n",
        "print(classification_report(y_test, predictions))\n"
      ],
      "metadata": {
        "colab": {
          "base_uri": "https://localhost:8080/"
        },
        "id": "wRrJO5Kl5O4b",
        "outputId": "eb2e83de-adda-4c93-aaa0-683b7575e24a"
      },
      "execution_count": null,
      "outputs": [
        {
          "output_type": "stream",
          "name": "stdout",
          "text": [
            "              precision    recall  f1-score   support\n",
            "\n",
            " BodyShaming       0.00      0.00      0.00         5\n",
            "    Misogyny       0.35      0.37      0.36        19\n",
            "  RapeThreat       0.37      0.59      0.45        17\n",
            "      Sexism       0.17      0.08      0.11        12\n",
            "\n",
            "    accuracy                           0.34        53\n",
            "   macro avg       0.22      0.26      0.23        53\n",
            "weighted avg       0.28      0.34      0.30        53\n",
            "\n"
          ]
        },
        {
          "output_type": "stream",
          "name": "stderr",
          "text": [
            "/usr/local/lib/python3.10/dist-packages/sklearn/metrics/_classification.py:1344: UndefinedMetricWarning: Precision and F-score are ill-defined and being set to 0.0 in labels with no predicted samples. Use `zero_division` parameter to control this behavior.\n",
            "  _warn_prf(average, modifier, msg_start, len(result))\n",
            "/usr/local/lib/python3.10/dist-packages/sklearn/metrics/_classification.py:1344: UndefinedMetricWarning: Precision and F-score are ill-defined and being set to 0.0 in labels with no predicted samples. Use `zero_division` parameter to control this behavior.\n",
            "  _warn_prf(average, modifier, msg_start, len(result))\n",
            "/usr/local/lib/python3.10/dist-packages/sklearn/metrics/_classification.py:1344: UndefinedMetricWarning: Precision and F-score are ill-defined and being set to 0.0 in labels with no predicted samples. Use `zero_division` parameter to control this behavior.\n",
            "  _warn_prf(average, modifier, msg_start, len(result))\n"
          ]
        }
      ]
    },
    {
      "cell_type": "code",
      "source": [
        "import pickle\n",
        "\n",
        "# Save the trained model to a file\n",
        "with open('random_forest_model.pkl', 'wb') as file:\n",
        "    pickle.dump(clf, file)\n",
        "\n",
        "# Optionally save the Word2Vec model as well\n",
        "with open('word2vec_model.pkl', 'wb') as file:\n",
        "    pickle.dump(w2v_model, file)\n"
      ],
      "metadata": {
        "id": "iZfZC_z98Jgw"
      },
      "execution_count": null,
      "outputs": []
    },
    {
      "cell_type": "code",
      "source": [
        "import pandas as pd\n",
        "import numpy as np\n",
        "import pickle\n",
        "\n",
        "# Load the models from disk\n",
        "with open('random_forest_model.pkl', 'rb') as file:\n",
        "    clf = pickle.load(file)\n",
        "\n",
        "with open('word2vec_model.pkl', 'rb') as file:\n",
        "    w2v_model = pickle.load(file)\n",
        "\n",
        "# Load your testing data\n",
        "test_data = pd.read_csv('/content/df.csv')\n",
        "\n",
        "# Preprocess the testing data (must match training preprocessing)\n",
        "test_data['processed_comments'] = test_data['Comment'].apply(lambda x: x.lower().split())\n",
        "\n",
        "# Convert comments in the test set to vectors\n",
        "def document_vector(doc):\n",
        "    vectors = [w2v_model.wv[word] for word in doc if word in w2v_model.wv.key_to_index]\n",
        "    if vectors:\n",
        "        return np.mean(vectors, axis=0)\n",
        "    else:\n",
        "        return np.zeros(w2v_model.vector_size)\n",
        "\n",
        "test_data['doc_vector'] = test_data['processed_comments'].apply(document_vector)\n",
        "\n",
        "# Prepare data for prediction\n",
        "X_test = list(test_data['doc_vector'])\n",
        "\n",
        "# Predict using the classifier\n",
        "predictions = clf.predict(X_test)\n",
        "\n",
        "# Since there are no true labels, you can examine predictions in various ways\n",
        "# For example, print out or analyze the predicted labels\n",
        "print(predictions)\n"
      ],
      "metadata": {
        "colab": {
          "base_uri": "https://localhost:8080/"
        },
        "id": "0jjRHb3t9hzW",
        "outputId": "8d53e8fc-d93b-4928-cb42-66ca100a2e8e"
      },
      "execution_count": null,
      "outputs": [
        {
          "output_type": "stream",
          "name": "stdout",
          "text": [
            "['Sexism' 'Sexism' 'Misogyny' 'RapeThreat' 'Sexism' 'Sexism' 'Sexism'\n",
            " 'Misogyny' 'RapeThreat' 'RapeThreat' 'Sexism' 'Misogyny' 'RapeThreat'\n",
            " 'RapeThreat' 'Sexism' 'Sexism' 'Misogyny' 'Sexism' 'Sexism' 'RapeThreat'\n",
            " 'Misogyny' 'Sexism' 'Misogyny' 'RapeThreat' 'Sexism' 'RapeThreat'\n",
            " 'Sexism' 'RapeThreat' 'Misogyny' 'RapeThreat' 'Misogyny' 'RapeThreat'\n",
            " 'RapeThreat' 'RapeThreat' 'RapeThreat' 'Misogyny' 'RapeThreat'\n",
            " 'RapeThreat' 'RapeThreat' 'RapeThreat' 'Misogyny' 'RapeThreat' 'Misogyny'\n",
            " 'Misogyny' 'RapeThreat' 'RapeThreat' 'RapeThreat' 'Misogyny' 'Misogyny'\n",
            " 'RapeThreat' 'RapeThreat' 'RapeThreat' 'RapeThreat' 'RapeThreat'\n",
            " 'RapeThreat' 'RapeThreat' 'RapeThreat' 'Misogyny' 'RapeThreat'\n",
            " 'RapeThreat' 'RapeThreat' 'RapeThreat' 'RapeThreat' 'RapeThreat'\n",
            " 'Misogyny' 'Misogyny' 'RapeThreat' 'Misogyny' 'RapeThreat' 'Sexism'\n",
            " 'RapeThreat' 'Misogyny' 'RapeThreat' 'Sexism' 'RapeThreat' 'RapeThreat'\n",
            " 'RapeThreat' 'RapeThreat' 'RapeThreat' 'Misogyny' 'Misogyny' 'RapeThreat'\n",
            " 'Misogyny' 'RapeThreat' 'Misogyny' 'Misogyny' 'RapeThreat' 'RapeThreat'\n",
            " 'Misogyny' 'Misogyny' 'RapeThreat' 'Misogyny' 'Misogyny' 'Misogyny'\n",
            " 'RapeThreat' 'RapeThreat' 'RapeThreat' 'RapeThreat' 'RapeThreat'\n",
            " 'RapeThreat' 'RapeThreat' 'RapeThreat' 'Misogyny' 'Sexism' 'Misogyny'\n",
            " 'RapeThreat' 'RapeThreat' 'Sexism' 'Misogyny' 'RapeThreat' 'RapeThreat'\n",
            " 'RapeThreat' 'RapeThreat' 'Misogyny' 'Misogyny' 'Misogyny' 'RapeThreat'\n",
            " 'RapeThreat' 'RapeThreat' 'RapeThreat' 'RapeThreat' 'RapeThreat'\n",
            " 'RapeThreat' 'Misogyny' 'RapeThreat' 'Misogyny' 'Misogyny' 'Misogyny'\n",
            " 'Misogyny' 'RapeThreat' 'Misogyny' 'Misogyny' 'RapeThreat' 'RapeThreat'\n",
            " 'RapeThreat' 'RapeThreat' 'Misogyny' 'RapeThreat' 'RapeThreat' 'Misogyny'\n",
            " 'RapeThreat' 'RapeThreat' 'RapeThreat' 'RapeThreat' 'Misogyny'\n",
            " 'RapeThreat' 'RapeThreat' 'RapeThreat' 'Misogyny' 'Misogyny' 'RapeThreat'\n",
            " 'Sexism' 'RapeThreat' 'Misogyny' 'Misogyny' 'RapeThreat' 'RapeThreat'\n",
            " 'RapeThreat' 'RapeThreat' 'Misogyny' 'Misogyny' 'RapeThreat' 'Misogyny'\n",
            " 'Misogyny' 'RapeThreat' 'Misogyny' 'RapeThreat' 'Misogyny' 'Sexism'\n",
            " 'RapeThreat' 'RapeThreat' 'Misogyny' 'Misogyny' 'RapeThreat' 'Misogyny'\n",
            " 'RapeThreat' 'RapeThreat' 'RapeThreat' 'Misogyny' 'RapeThreat'\n",
            " 'RapeThreat' 'Misogyny' 'Misogyny' 'RapeThreat' 'Misogyny' 'Misogyny'\n",
            " 'Misogyny' 'RapeThreat' 'RapeThreat' 'RapeThreat' 'RapeThreat' 'Misogyny'\n",
            " 'Misogyny' 'Sexism' 'RapeThreat' 'RapeThreat' 'Misogyny' 'RapeThreat'\n",
            " 'RapeThreat' 'Misogyny' 'Misogyny' 'RapeThreat' 'RapeThreat' 'Misogyny'\n",
            " 'Misogyny' 'RapeThreat' 'RapeThreat' 'Misogyny' 'Misogyny' 'Misogyny'\n",
            " 'RapeThreat' 'Sexism' 'Misogyny' 'Misogyny' 'Misogyny' 'RapeThreat'\n",
            " 'RapeThreat' 'RapeThreat' 'RapeThreat' 'RapeThreat' 'Misogyny'\n",
            " 'RapeThreat' 'Misogyny' 'RapeThreat' 'Misogyny' 'RapeThreat' 'RapeThreat'\n",
            " 'Misogyny' 'Sexism' 'RapeThreat' 'Misogyny' 'RapeThreat' 'RapeThreat'\n",
            " 'Sexism' 'RapeThreat' 'RapeThreat' 'RapeThreat' 'Sexism' 'RapeThreat'\n",
            " 'RapeThreat' 'Misogyny']\n"
          ]
        }
      ]
    },
    {
      "cell_type": "code",
      "source": [
        "import pandas as pd\n",
        "\n",
        "# Assuming 'test_comments' is your list of comments and 'predictions' are the predicted labels from the model\n",
        "test_data['Predicted_Labels'] = predictions  # Add the predictions as a new column\n",
        "\n",
        "# Save the DataFrame to a new CSV file\n",
        "test_data.to_csv('w2v_rf.csv', index=False)\n",
        "\n",
        "print(\"The test data with predicted labels has been saved to 'labeled_test_data.csv'.\")\n"
      ],
      "metadata": {
        "colab": {
          "base_uri": "https://localhost:8080/"
        },
        "id": "vJcKkA_095VN",
        "outputId": "575d69f2-a78d-4c4a-b3d8-694e6e422bf2"
      },
      "execution_count": null,
      "outputs": [
        {
          "output_type": "stream",
          "name": "stdout",
          "text": [
            "The test data with predicted labels has been saved to 'labeled_test_data.csv'.\n"
          ]
        }
      ]
    },
    {
      "cell_type": "code",
      "source": [],
      "metadata": {
        "id": "CHjJcR9Z-EXX"
      },
      "execution_count": null,
      "outputs": []
    },
    {
      "cell_type": "markdown",
      "source": [
        "#TFIDF SVM"
      ],
      "metadata": {
        "id": "uhs1k35BQTo8"
      }
    },
    {
      "cell_type": "code",
      "source": [
        "import pandas as pd\n",
        "from sklearn.model_selection import train_test_split\n",
        "from sklearn.feature_extraction.text import TfidfVectorizer\n",
        "from sklearn.svm import SVC\n",
        "from sklearn.pipeline import make_pipeline\n",
        "from sklearn.metrics import classification_report\n",
        "\n",
        "# Load your training data\n",
        "# Assuming the file is CSV and the relevant columns are 'comments' and 'labels'\n",
        "data = pd.read_csv('/content/modified_hatespeech.csv')\n",
        "comments = data['Comment']\n",
        "labels = data['Label']\n",
        "\n",
        "# Initialize a TF-IDF Vectorizer\n",
        "tfidf_vectorizer = TfidfVectorizer(lowercase=True, stop_words='english', max_features=1000)\n",
        "\n",
        "# Train/test split\n",
        "X_train, X_test, y_train, y_test = train_test_split(comments, labels, test_size=0.25, random_state=42)\n",
        "\n",
        "# Create a SVM classifier wrapped in a pipeline with TF-IDF\n",
        "svm_pipeline = make_pipeline(tfidf_vectorizer, SVC(kernel='linear'))\n",
        "\n",
        "# Train the SVM classifier on the training data\n",
        "svm_pipeline.fit(X_train, y_train)\n",
        "\n",
        "# Optionally evaluate the classifier if you have test labels\n",
        "predictions = svm_pipeline.predict(X_test)\n",
        "print(classification_report(y_test, predictions))\n",
        "\n",
        "print(\"SVM model trained successfully!\")\n"
      ],
      "metadata": {
        "colab": {
          "base_uri": "https://localhost:8080/"
        },
        "id": "T4Tmwr4lRBq6",
        "outputId": "2b8ded3d-f0f5-459b-9934-1fb0578e007b"
      },
      "execution_count": null,
      "outputs": [
        {
          "output_type": "stream",
          "name": "stdout",
          "text": [
            "              precision    recall  f1-score   support\n",
            "\n",
            " BodyShaming       0.00      0.00      0.00         5\n",
            "    Misogyny       0.46      0.32      0.37        19\n",
            "  RapeThreat       0.47      0.82      0.60        17\n",
            "      Sexism       0.50      0.42      0.45        12\n",
            "\n",
            "    accuracy                           0.47        53\n",
            "   macro avg       0.36      0.39      0.36        53\n",
            "weighted avg       0.43      0.47      0.43        53\n",
            "\n",
            "SVM model trained successfully!\n"
          ]
        },
        {
          "output_type": "stream",
          "name": "stderr",
          "text": [
            "/usr/local/lib/python3.10/dist-packages/sklearn/metrics/_classification.py:1344: UndefinedMetricWarning: Precision and F-score are ill-defined and being set to 0.0 in labels with no predicted samples. Use `zero_division` parameter to control this behavior.\n",
            "  _warn_prf(average, modifier, msg_start, len(result))\n",
            "/usr/local/lib/python3.10/dist-packages/sklearn/metrics/_classification.py:1344: UndefinedMetricWarning: Precision and F-score are ill-defined and being set to 0.0 in labels with no predicted samples. Use `zero_division` parameter to control this behavior.\n",
            "  _warn_prf(average, modifier, msg_start, len(result))\n",
            "/usr/local/lib/python3.10/dist-packages/sklearn/metrics/_classification.py:1344: UndefinedMetricWarning: Precision and F-score are ill-defined and being set to 0.0 in labels with no predicted samples. Use `zero_division` parameter to control this behavior.\n",
            "  _warn_prf(average, modifier, msg_start, len(result))\n"
          ]
        }
      ]
    },
    {
      "cell_type": "code",
      "source": [
        "import pickle\n",
        "\n",
        "# Save the SVM pipeline using pickle\n",
        "with open('svm_pipeline.pkl', 'wb') as file:\n",
        "    pickle.dump(svm_pipeline, file)\n",
        "\n",
        "print(\"Model saved successfully using pickle!\")\n"
      ],
      "metadata": {
        "colab": {
          "base_uri": "https://localhost:8080/"
        },
        "id": "OepwPFn6RTOK",
        "outputId": "98f4ddc2-a14b-4e00-ab3f-1c3759720293"
      },
      "execution_count": null,
      "outputs": [
        {
          "output_type": "stream",
          "name": "stdout",
          "text": [
            "Model saved successfully using pickle!\n"
          ]
        }
      ]
    },
    {
      "cell_type": "code",
      "source": [
        "with open('svm_pipeline.pkl', 'rb') as file:\n",
        "    loaded_svm_pipeline = pickle.load(file)"
      ],
      "metadata": {
        "id": "57tFOlO4R5Ra"
      },
      "execution_count": null,
      "outputs": []
    },
    {
      "cell_type": "code",
      "source": [
        "import pandas as pd\n",
        "import numpy as np\n",
        "from joblib import load\n",
        "\n",
        "# Load the pre-trained SVM pipeline (change the filename as needed)\n",
        "svm_pipeline = load('/content/svm_pipeline.pkl')\n",
        "\n",
        "# Load your test data\n",
        "test_data = pd.read_csv('/content/df.csv')\n",
        "test_comments = test_data['Comment']\n",
        "# Make predictions on the test data using the loaded SVM pipeline\n",
        "predictions = svm_pipeline.predict(test_comments)\n",
        "\n",
        "# Optionally, you can now review or use the predictions\n",
        "print(\"Predictions for the test data:\", predictions)\n"
      ],
      "metadata": {
        "colab": {
          "base_uri": "https://localhost:8080/"
        },
        "id": "SMGVqNQbR-HE",
        "outputId": "85901012-b9a5-418a-97d8-e99c745df59e"
      },
      "execution_count": null,
      "outputs": [
        {
          "output_type": "stream",
          "name": "stdout",
          "text": [
            "Predictions for the test data: ['Misogyny' 'Sexism' 'Sexism' 'RapeThreat' 'Sexism' 'Sexism' 'Sexism'\n",
            " 'RapeThreat' 'RapeThreat' 'RapeThreat' 'Sexism' 'Misogyny' 'RapeThreat'\n",
            " 'RapeThreat' 'Sexism' 'Sexism' 'RapeThreat' 'Sexism' 'Sexism'\n",
            " 'RapeThreat' 'RapeThreat' 'Sexism' 'RapeThreat' 'RapeThreat' 'Sexism'\n",
            " 'RapeThreat' 'Sexism' 'RapeThreat' 'RapeThreat' 'RapeThreat' 'Sexism'\n",
            " 'RapeThreat' 'RapeThreat' 'Sexism' 'Misogyny' 'Sexism' 'RapeThreat'\n",
            " 'RapeThreat' 'RapeThreat' 'RapeThreat' 'Sexism' 'RapeThreat' 'RapeThreat'\n",
            " 'Misogyny' 'RapeThreat' 'RapeThreat' 'Misogyny' 'RapeThreat' 'Misogyny'\n",
            " 'RapeThreat' 'RapeThreat' 'RapeThreat' 'RapeThreat' 'RapeThreat'\n",
            " 'RapeThreat' 'RapeThreat' 'RapeThreat' 'Misogyny' 'RapeThreat'\n",
            " 'RapeThreat' 'RapeThreat' 'RapeThreat' 'RapeThreat' 'Sexism' 'Misogyny'\n",
            " 'Sexism' 'RapeThreat' 'RapeThreat' 'RapeThreat' 'RapeThreat' 'RapeThreat'\n",
            " 'Misogyny' 'Sexism' 'RapeThreat' 'RapeThreat' 'RapeThreat' 'RapeThreat'\n",
            " 'RapeThreat' 'RapeThreat' 'RapeThreat' 'BodyShaming' 'RapeThreat'\n",
            " 'Misogyny' 'RapeThreat' 'Misogyny' 'RapeThreat' 'RapeThreat' 'RapeThreat'\n",
            " 'Misogyny' 'RapeThreat' 'RapeThreat' 'RapeThreat' 'Misogyny' 'Misogyny'\n",
            " 'RapeThreat' 'RapeThreat' 'RapeThreat' 'RapeThreat' 'RapeThreat'\n",
            " 'RapeThreat' 'RapeThreat' 'Misogyny' 'RapeThreat' 'Misogyny' 'Misogyny'\n",
            " 'RapeThreat' 'RapeThreat' 'Sexism' 'Misogyny' 'RapeThreat' 'RapeThreat'\n",
            " 'RapeThreat' 'RapeThreat' 'Sexism' 'Misogyny' 'RapeThreat' 'RapeThreat'\n",
            " 'RapeThreat' 'RapeThreat' 'RapeThreat' 'RapeThreat' 'RapeThreat'\n",
            " 'RapeThreat' 'Misogyny' 'RapeThreat' 'Misogyny' 'RapeThreat' 'RapeThreat'\n",
            " 'Misogyny' 'RapeThreat' 'Misogyny' 'Misogyny' 'RapeThreat' 'RapeThreat'\n",
            " 'RapeThreat' 'RapeThreat' 'RapeThreat' 'RapeThreat' 'RapeThreat' 'Sexism'\n",
            " 'RapeThreat' 'RapeThreat' 'RapeThreat' 'RapeThreat' 'Misogyny'\n",
            " 'RapeThreat' 'RapeThreat' 'RapeThreat' 'RapeThreat' 'Misogyny'\n",
            " 'RapeThreat' 'Sexism' 'RapeThreat' 'RapeThreat' 'RapeThreat' 'RapeThreat'\n",
            " 'RapeThreat' 'RapeThreat' 'RapeThreat' 'Misogyny' 'Misogyny' 'RapeThreat'\n",
            " 'Misogyny' 'RapeThreat' 'RapeThreat' 'RapeThreat' 'RapeThreat'\n",
            " 'RapeThreat' 'Sexism' 'RapeThreat' 'RapeThreat' 'RapeThreat' 'RapeThreat'\n",
            " 'RapeThreat' 'Misogyny' 'RapeThreat' 'RapeThreat' 'RapeThreat' 'Misogyny'\n",
            " 'RapeThreat' 'RapeThreat' 'RapeThreat' 'RapeThreat' 'RapeThreat'\n",
            " 'RapeThreat' 'RapeThreat' 'RapeThreat' 'RapeThreat' 'RapeThreat'\n",
            " 'Misogyny' 'Sexism' 'RapeThreat' 'RapeThreat' 'RapeThreat' 'RapeThreat'\n",
            " 'RapeThreat' 'RapeThreat' 'RapeThreat' 'RapeThreat' 'RapeThreat' 'Sexism'\n",
            " 'RapeThreat' 'RapeThreat' 'Misogyny' 'Misogyny' 'RapeThreat' 'RapeThreat'\n",
            " 'Misogyny' 'Misogyny' 'RapeThreat' 'RapeThreat' 'Sexism' 'RapeThreat'\n",
            " 'Sexism' 'RapeThreat' 'RapeThreat' 'RapeThreat' 'RapeThreat' 'RapeThreat'\n",
            " 'RapeThreat' 'Misogyny' 'Misogyny' 'RapeThreat' 'RapeThreat' 'RapeThreat'\n",
            " 'RapeThreat' 'RapeThreat' 'Misogyny' 'RapeThreat' 'RapeThreat' 'Misogyny'\n",
            " 'RapeThreat' 'RapeThreat' 'RapeThreat' 'RapeThreat' 'RapeThreat'\n",
            " 'RapeThreat' 'RapeThreat' 'RapeThreat' 'RapeThreat' 'RapeThreat']\n"
          ]
        }
      ]
    },
    {
      "cell_type": "code",
      "source": [
        "import pandas as pd\n",
        "\n",
        "# Assuming 'test_comments' is your list of comments and 'predictions' are the predicted labels from the model\n",
        "test_data['Predicted_Labels'] = predictions  # Add the predictions as a new column\n",
        "\n",
        "# Save the DataFrame to a new CSV file\n",
        "test_data.to_csv('svm_tfidf1.csv', index=False)\n",
        "\n",
        "print(\"The test data with predicted labels has been saved to 'labeled_test_data.csv'.\")\n"
      ],
      "metadata": {
        "colab": {
          "base_uri": "https://localhost:8080/"
        },
        "id": "55JfeA3-Sv7k",
        "outputId": "bbd72d9b-eb8c-4d82-873a-db5d3d0e1fa0"
      },
      "execution_count": null,
      "outputs": [
        {
          "output_type": "stream",
          "name": "stdout",
          "text": [
            "The test data with predicted labels has been saved to 'labeled_test_data.csv'.\n"
          ]
        }
      ]
    },
    {
      "cell_type": "markdown",
      "source": [
        "#tf idf rf"
      ],
      "metadata": {
        "id": "7cOz01NPTpWz"
      }
    },
    {
      "cell_type": "code",
      "source": [
        "import pandas as pd\n",
        "from sklearn.model_selection import train_test_split\n",
        "from sklearn.feature_extraction.text import TfidfVectorizer\n",
        "from sklearn.ensemble import RandomForestClassifier\n",
        "from sklearn.pipeline import make_pipeline\n",
        "from sklearn.metrics import classification_report\n",
        "\n",
        "# Load your training data\n",
        "# Replace 'path_to_your_data.csv', 'comments', and 'labels' with your actual file path and column names\n",
        "data = pd.read_csv('/content/modified_hatespeech.csv')\n",
        "comments = data['Comment']  # This should be your column with text data\n",
        "labels = data['Label']      # This should be your column with labels\n",
        "\n",
        "# Initialize a TF-IDF Vectorizer\n",
        "tfidf_vectorizer = TfidfVectorizer(lowercase=True, stop_words='english', max_features=1000)\n",
        "\n",
        "# Train/test split\n",
        "X_train, X_test, y_train, y_test = train_test_split(comments, labels, test_size=0.25, random_state=42)\n",
        "\n",
        "# Create a Random Forest classifier wrapped in a pipeline with TF-IDF\n",
        "rf_pipeline = make_pipeline(tfidf_vectorizer, RandomForestClassifier(n_estimators=100, random_state=42))\n",
        "\n",
        "# Train the Random Forest classifier on the training data\n",
        "rf_pipeline.fit(X_train, y_train)\n",
        "\n",
        "# Optionally evaluate the classifier if you have test labels\n",
        "predictions = rf_pipeline.predict(X_test)\n",
        "print(classification_report(y_test, predictions))\n",
        "\n",
        "print(\"Random Forest model trained successfully!\")\n"
      ],
      "metadata": {
        "id": "pqRM3mQeTtSp",
        "colab": {
          "base_uri": "https://localhost:8080/"
        },
        "outputId": "11febc63-8c98-4d05-9842-f1e8e3a1f737"
      },
      "execution_count": null,
      "outputs": [
        {
          "output_type": "stream",
          "name": "stdout",
          "text": [
            "              precision    recall  f1-score   support\n",
            "\n",
            " BodyShaming       0.00      0.00      0.00         5\n",
            "    Misogyny       0.41      0.68      0.51        19\n",
            "  RapeThreat       0.64      0.41      0.50        17\n",
            "      Sexism       0.60      0.50      0.55        12\n",
            "\n",
            "    accuracy                           0.49        53\n",
            "   macro avg       0.41      0.40      0.39        53\n",
            "weighted avg       0.49      0.49      0.47        53\n",
            "\n",
            "Random Forest model trained successfully!\n"
          ]
        },
        {
          "output_type": "stream",
          "name": "stderr",
          "text": [
            "/usr/local/lib/python3.10/dist-packages/sklearn/metrics/_classification.py:1344: UndefinedMetricWarning: Precision and F-score are ill-defined and being set to 0.0 in labels with no predicted samples. Use `zero_division` parameter to control this behavior.\n",
            "  _warn_prf(average, modifier, msg_start, len(result))\n",
            "/usr/local/lib/python3.10/dist-packages/sklearn/metrics/_classification.py:1344: UndefinedMetricWarning: Precision and F-score are ill-defined and being set to 0.0 in labels with no predicted samples. Use `zero_division` parameter to control this behavior.\n",
            "  _warn_prf(average, modifier, msg_start, len(result))\n",
            "/usr/local/lib/python3.10/dist-packages/sklearn/metrics/_classification.py:1344: UndefinedMetricWarning: Precision and F-score are ill-defined and being set to 0.0 in labels with no predicted samples. Use `zero_division` parameter to control this behavior.\n",
            "  _warn_prf(average, modifier, msg_start, len(result))\n"
          ]
        }
      ]
    },
    {
      "cell_type": "code",
      "source": [
        "import pickle\n",
        "\n",
        "# Save the trained Random Forest pipeline to a file\n",
        "with open('random_forest_pipeline.pkl', 'wb') as file:\n",
        "    pickle.dump(rf_pipeline, file)\n",
        "\n",
        "print(\"Model saved successfully using pickle!\")\n"
      ],
      "metadata": {
        "colab": {
          "base_uri": "https://localhost:8080/"
        },
        "id": "utb_k1TiU7zF",
        "outputId": "8936be70-5b88-474a-8b06-b8f30d88f67d"
      },
      "execution_count": null,
      "outputs": [
        {
          "output_type": "stream",
          "name": "stdout",
          "text": [
            "Model saved successfully using pickle!\n"
          ]
        }
      ]
    },
    {
      "cell_type": "code",
      "source": [
        "import pandas as pd\n",
        "import numpy as np\n",
        "import pickle\n",
        "\n",
        "# Load the pre-trained Random Forest pipeline from a pickle file\n",
        "with open('/content/random_forest_pipeline.pkl', 'rb') as file:\n",
        "    rf_pipeline = pickle.load(file)\n",
        "\n",
        "# Load your test data\n",
        "test_data = pd.read_csv('/content/df.csv')\n",
        "test_comments = test_data['Comment']\n",
        "# Make predictions on the test data using the loaded Random Forest pipeline\n",
        "predictions = rf_pipeline.predict(test_comments)\n",
        "\n",
        "# Optionally, you can now review or use the predictions\n",
        "print(\"Predictions for the test data:\", predictions)\n"
      ],
      "metadata": {
        "colab": {
          "base_uri": "https://localhost:8080/"
        },
        "id": "0E5Ff5L7XcOb",
        "outputId": "13bb2d1b-8120-47f7-9bf8-b561fab931f1"
      },
      "execution_count": null,
      "outputs": [
        {
          "output_type": "stream",
          "name": "stdout",
          "text": [
            "Predictions for the test data: ['Misogyny' 'Sexism' 'Sexism' 'Misogyny' 'Sexism' 'Sexism' 'Sexism'\n",
            " 'Misogyny' 'Misogyny' 'Misogyny' 'Sexism' 'Misogyny' 'Misogyny'\n",
            " 'Misogyny' 'Sexism' 'Sexism' 'RapeThreat' 'Sexism' 'Sexism' 'Misogyny'\n",
            " 'Misogyny' 'Sexism' 'Misogyny' 'Misogyny' 'Sexism' 'Misogyny' 'Sexism'\n",
            " 'Misogyny' 'RapeThreat' 'Misogyny' 'Sexism' 'Misogyny' 'Misogyny'\n",
            " 'Misogyny' 'Misogyny' 'Misogyny' 'Misogyny' 'Misogyny' 'Misogyny'\n",
            " 'Misogyny' 'Misogyny' 'Misogyny' 'Misogyny' 'Misogyny' 'Misogyny'\n",
            " 'Misogyny' 'Misogyny' 'Misogyny' 'Misogyny' 'Misogyny' 'Misogyny'\n",
            " 'Misogyny' 'Misogyny' 'RapeThreat' 'Misogyny' 'Misogyny' 'Misogyny'\n",
            " 'Misogyny' 'Misogyny' 'Misogyny' 'Misogyny' 'Misogyny' 'Misogyny'\n",
            " 'Sexism' 'Misogyny' 'Misogyny' 'Misogyny' 'Misogyny' 'Misogyny' 'Sexism'\n",
            " 'Misogyny' 'Misogyny' 'Sexism' 'RapeThreat' 'Misogyny' 'Misogyny'\n",
            " 'Misogyny' 'RapeThreat' 'Misogyny' 'Sexism' 'BodyShaming' 'Misogyny'\n",
            " 'Misogyny' 'Misogyny' 'Misogyny' 'Misogyny' 'Misogyny' 'Misogyny'\n",
            " 'Misogyny' 'Misogyny' 'Misogyny' 'Misogyny' 'Misogyny' 'Misogyny'\n",
            " 'Misogyny' 'Misogyny' 'Misogyny' 'Misogyny' 'Misogyny' 'Misogyny'\n",
            " 'Misogyny' 'Misogyny' 'Misogyny' 'Misogyny' 'Misogyny' 'Misogyny'\n",
            " 'Misogyny' 'Misogyny' 'Misogyny' 'Misogyny' 'Misogyny' 'Misogyny'\n",
            " 'Misogyny' 'Misogyny' 'Misogyny' 'Sexism' 'Misogyny' 'Misogyny'\n",
            " 'Misogyny' 'Misogyny' 'Misogyny' 'Misogyny' 'Misogyny' 'Misogyny'\n",
            " 'Misogyny' 'Misogyny' 'Sexism' 'Misogyny' 'Misogyny' 'Misogyny'\n",
            " 'Misogyny' 'Misogyny' 'Misogyny' 'Misogyny' 'Misogyny' 'Misogyny'\n",
            " 'Sexism' 'Misogyny' 'Misogyny' 'Misogyny' 'Misogyny' 'Misogyny'\n",
            " 'Misogyny' 'Misogyny' 'Misogyny' 'Misogyny' 'Misogyny' 'Misogyny'\n",
            " 'Misogyny' 'Misogyny' 'Misogyny' 'Misogyny' 'Misogyny' 'Misogyny'\n",
            " 'RapeThreat' 'Misogyny' 'Misogyny' 'Misogyny' 'Misogyny' 'Misogyny'\n",
            " 'Misogyny' 'Misogyny' 'Misogyny' 'Misogyny' 'Misogyny' 'Misogyny'\n",
            " 'Misogyny' 'Misogyny' 'Misogyny' 'Misogyny' 'Misogyny' 'Misogyny'\n",
            " 'RapeThreat' 'Misogyny' 'Misogyny' 'Misogyny' 'Misogyny' 'Misogyny'\n",
            " 'Misogyny' 'Misogyny' 'Misogyny' 'Misogyny' 'Misogyny' 'Misogyny'\n",
            " 'Misogyny' 'Misogyny' 'Misogyny' 'Misogyny' 'Misogyny' 'Misogyny'\n",
            " 'Misogyny' 'Sexism' 'Misogyny' 'Misogyny' 'Misogyny' 'Misogyny' 'Sexism'\n",
            " 'Misogyny' 'Misogyny' 'Misogyny' 'Misogyny' 'Misogyny' 'Misogyny'\n",
            " 'Misogyny' 'Misogyny' 'Misogyny' 'Misogyny' 'Misogyny' 'Misogyny'\n",
            " 'Sexism' 'Misogyny' 'Sexism' 'Misogyny' 'Misogyny' 'Misogyny' 'Misogyny'\n",
            " 'Misogyny' 'Misogyny' 'Misogyny' 'Misogyny' 'Misogyny' 'Misogyny'\n",
            " 'Misogyny' 'Misogyny' 'Sexism' 'Misogyny' 'Misogyny' 'Misogyny' 'Sexism'\n",
            " 'Misogyny' 'Misogyny' 'Misogyny' 'Misogyny' 'Misogyny' 'Misogyny'\n",
            " 'Misogyny' 'Misogyny' 'Misogyny' 'Misogyny' 'Misogyny' 'RapeThreat']\n"
          ]
        }
      ]
    },
    {
      "cell_type": "code",
      "source": [
        "import pandas as pd\n",
        "\n",
        "# Assuming 'test_comments' is your list of comments and 'predictions' are the predicted labels from the model\n",
        "test_data['Predicted_Labels'] = predictions  # Add the predictions as a new column\n",
        "\n",
        "# Save the DataFrame to a new CSV file\n",
        "test_data.to_csv('rf_tfidf.csv', index=False)\n",
        "\n",
        "print(\"The test data with predicted labels has been saved to 'labeled_test_data.csv'.\")\n"
      ],
      "metadata": {
        "colab": {
          "base_uri": "https://localhost:8080/"
        },
        "id": "LVnVUO9GXrFk",
        "outputId": "0fdb4128-ce60-4a19-ccfa-3f464b622270"
      },
      "execution_count": null,
      "outputs": [
        {
          "output_type": "stream",
          "name": "stdout",
          "text": [
            "The test data with predicted labels has been saved to 'labeled_test_data.csv'.\n"
          ]
        }
      ]
    }
  ]
}